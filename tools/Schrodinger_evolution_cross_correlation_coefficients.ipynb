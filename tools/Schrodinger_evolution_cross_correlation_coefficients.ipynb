{
 "cells": [
  {
   "cell_type": "markdown",
   "id": "65914391",
   "metadata": {},
   "source": [
    "# Time evolution of 1-D Schrodinger Equation with wavelets\n",
    "## Cross correlation coefficients"
   ]
  },
  {
   "cell_type": "code",
   "execution_count": 1,
   "id": "caa65658",
   "metadata": {},
   "outputs": [],
   "source": [
    "import sys, struct\n",
    "import numpy as np\n",
    "import matplotlib.pyplot as plt\n",
    "import scipy\n",
    "from copy import deepcopy\n",
    "from array import array"
   ]
  },
  {
   "cell_type": "markdown",
   "id": "c7f3f3c2",
   "metadata": {},
   "source": [
    "Here we calculate coefficients $C_{jp}^{2k}$ standing in the following expression\n",
    "defining the time evolution operator.\n",
    "Our main operator has the following expansion\n",
    "\\begin{equation}\n",
    "\\label{operator_correlation_expansion}\n",
    "    \\left[ \\sigma_l^{\\mathfrak n} \\right]_{pj}\n",
    "    (a)\n",
    "    =\n",
    "    \\sum_{k = 0}^{\\infty}\n",
    "    C_{jp}^{2k}\n",
    "    \\widetilde J_{2k + j + p}(l, a)\n",
    "    ,\n",
    "\\end{equation}\n",
    "where $a = t \\mathfrak N^2 = t 4^{\\mathfrak n}$\n",
    "and\n",
    "\\begin{equation}\n",
    "\\label{power_integral}\n",
    "    \\widetilde J_m\n",
    "    =\n",
    "    \\frac\n",
    "    {\n",
    "        I_m\n",
    "        e^{ i \\frac {\\pi}4 (m - 1) }\n",
    "    }\n",
    "    {\n",
    "        2 \\pi ( m + 2 )!\n",
    "    }\n",
    "    =\n",
    "    \\frac\n",
    "    {\n",
    "        e^{ i \\frac {\\pi}4 (m - 1) }\n",
    "    }\n",
    "    {\n",
    "        2 \\pi ( m + 2 )!\n",
    "    }\n",
    "    \\int_{\\mathbb R}\n",
    "    \\exp\n",
    "    \\left(\n",
    "        \\rho l \\exp \\left( i \\frac \\pi 4 \\right) - a \\rho^2\n",
    "    \\right)\n",
    "    \\rho^m\n",
    "    d \\rho\n",
    "\\end{equation}\n"
   ]
  },
  {
   "cell_type": "markdown",
   "id": "de871e4c",
   "metadata": {},
   "source": [
    "\\begin{equation*}\n",
    "\\begin{aligned}\n",
    "    \\widetilde A_0^{j+1}\n",
    "    &=\n",
    "    \\sqrt{ \\frac{ 2j + 3 }{ 2j - 1 } }\n",
    "    \\widetilde A_0^{j-1}\n",
    "    \\\\\n",
    "    \\widetilde A_1^{j+1}\n",
    "    &=\n",
    "    \\sqrt{ \\frac{ 2j + 3 }{ 2j - 1 } }\n",
    "    \\frac{ j - 1 }{ j + 1 }\n",
    "    \\widetilde A_1^{j-1}\n",
    "    -\n",
    "    \\sqrt{ \\frac {(2j + 1)(2j + 3)}{(2j + 2)(2j + 2)} }\n",
    "    \\widetilde A_0^j\n",
    "    \\\\\n",
    "    \\widetilde A_2^{j+1}\n",
    "    &=\n",
    "    \\sqrt{ \\frac{ 2j + 3 }{ 2j - 1 } }\n",
    "    \\left( \\frac{ j - 1 }{ j + 1 } \\right)^2\n",
    "    \\widetilde A_2^{j-1}\n",
    "    -\n",
    "    \\sqrt{ \\frac {(2j + 1)(2j + 3)}{(2j + 2)(2j + 2)} }\n",
    "    \\frac j{ j + 1 }\n",
    "    \\widetilde A_1^j\n",
    "    \\\\\n",
    "    &\\ldots \\qquad \\ldots \\qquad \\ldots \\qquad \\ldots \\qquad \\ldots\n",
    "    \\\\\n",
    "    \\widetilde A_{j-1}^{j+1}\n",
    "    &=\n",
    "    \\sqrt{ \\frac{ 2j + 3 }{ 2j - 1 } }\n",
    "    \\left( \\frac{ j - 1 }{ j + 1 } \\right)^{j-1}\n",
    "    \\widetilde A_{j-1}^{j-1}\n",
    "    -\n",
    "    \\sqrt{ \\frac {(2j + 1)(2j + 3)}{(2j + 2)(2j + 2)} }\n",
    "    \\left( \\frac j{ j + 1 } \\right)^{j-2}\n",
    "    \\widetilde A_{j-2}^j\n",
    "    \\\\\n",
    "    \\widetilde A_j^{j+1}\n",
    "    &=\n",
    "    -\n",
    "    \\sqrt{ \\frac {(2j + 1)(2j + 3)}{(2j + 2)(2j + 2)} }\n",
    "    \\left( \\frac j{ j + 1 } \\right)^{j-1}\n",
    "    \\widetilde A_{j-1}^j\n",
    "    \\\\\n",
    "    \\widetilde A_{j+1}^{j+1}\n",
    "    &=\n",
    "    -\n",
    "    \\sqrt{ \\frac {(2j + 1)(2j + 3)}{(2j + 2)(2j + 2)} }\n",
    "    \\left( \\frac j{ j + 1 } \\right)^j\n",
    "    \\widetilde A_j^j\n",
    "\\end{aligned}\n",
    "\\end{equation*}"
   ]
  },
  {
   "cell_type": "markdown",
   "id": "45188bd2",
   "metadata": {},
   "source": [
    "The following function generates numpay array $\\widetilde A^{j+1}$\n",
    "for given arrays $A = \\widetilde A^{j-1}$, $B = \\widetilde A^j$,\n",
    "using the above reccurence relation."
   ]
  },
  {
   "cell_type": "code",
   "execution_count": 2,
   "id": "b614b9db",
   "metadata": {},
   "outputs": [],
   "source": [
    "def tilde_A_transformation(A, B):\n",
    "    j = len(A)\n",
    "    tilde_A = np.ones_like(A)\n",
    "    q = ( j - 1. )/( j + 1. )\n",
    "    for i in range(1, j):\n",
    "        tilde_A[i] = tilde_A[i-1] * q\n",
    "    tilde_B = np.ones_like(B)\n",
    "    q = j /( j + 1. )\n",
    "    for i in range(1, j + 1):\n",
    "        tilde_B[i] = tilde_B[i-1] * q\n",
    "    \n",
    "    alpha = np.sqrt( (2.0 * j + 3) / (2.0 * j - 1) )\n",
    "    beta = - np.sqrt( (2.0 * j + 3) / (2.0 * j + 2) * (2.0 * j + 1) / (2.0 * j + 2) )\n",
    "    res = np.zeros( len(B) + 1 )    #j + 2\n",
    "    res[:-2] = res[:-2] + alpha * A * tilde_A\n",
    "    res[1:] = res[1:] + beta * B * tilde_B\n",
    "    return res"
   ]
  },
  {
   "cell_type": "markdown",
   "id": "21f4dd75",
   "metadata": {},
   "source": [
    "Using the above transformation, that is exactly the same for $A$- and $B$-coefficients, and knowing the first coefficients (given below), one can calculate the correlation coefficients as follows."
   ]
  },
  {
   "cell_type": "markdown",
   "id": "f5f498b0",
   "metadata": {},
   "source": [
    "\\begin{equation*}\n",
    "    \\widetilde A_0^0 = -1\n",
    "    , \\quad\n",
    "    \\widetilde B_0^0 = 1\n",
    "    ,\n",
    "\\end{equation*}\n",
    "\\begin{equation*}\n",
    "    \\widetilde A_0^1 = \\sqrt{3}\n",
    "    , \\quad\n",
    "    \\widetilde A_1^1 = \\frac{\\sqrt{3}}2\n",
    "    , \\quad\n",
    "    \\widetilde B_0^1 = \\sqrt{3}\n",
    "    , \\quad\n",
    "    \\widetilde B_1^1 = - \\frac{\\sqrt{3}}2\n",
    "    .\n",
    "\\end{equation*}"
   ]
  },
  {
   "cell_type": "markdown",
   "id": "922cc89a",
   "metadata": {},
   "source": [
    "\\begin{equation*}\n",
    "    C_{jp}^k\n",
    "    =\n",
    "    \\sum_{m=0}^j\n",
    "    \\sum_{q=0}^p\n",
    "    \\frac{ (-1)^{m+1} (k + 2 + j + p)! (4j)^m (4p)^q }{ (k + 2 + j + p + m + q)! }\n",
    "    \\left(\n",
    "        \\widetilde A_m^j \\widetilde B_q^p\n",
    "        +\n",
    "        (-1)^{k + j + p + m + q}\n",
    "        \\widetilde B_m^j \\widetilde A_q^p\n",
    "    \\right)\n",
    "    ,\n",
    "\\end{equation*}"
   ]
  },
  {
   "cell_type": "code",
   "execution_count": 3,
   "id": "bcf86643",
   "metadata": {},
   "outputs": [],
   "source": [
    "def get_correlation_coefficient(k, j, p):\n",
    "    A = get_first_matrix(k, j, p)\n",
    "    B = get_second_matrix(k, j, p)\n",
    "    return np.sum(A * B)\n",
    "\n",
    "def get_first_matrix(k, j, p):\n",
    "    F = np.empty( (j + 1, p + 1) )\n",
    "    F[0,0] = -1\n",
    "    K = k + 2 + j + p\n",
    "    for m in range(1, j + 1):\n",
    "        F[m, 0] = F[m - 1, 0] * (-4 * j) / (K + m)\n",
    "    for m in range(0, j + 1):\n",
    "        for q in range(1, p + 1):\n",
    "            F[m, q] = F[m, q - 1] * (4 * p) / (K + m + q) \n",
    "    return F\n",
    "\n",
    "def get_second_matrix(k, j, p):\n",
    "    A0 = np.array( [-1.0] )\n",
    "    A1 = np.array( [np.sqrt(3), 0.5 * np.sqrt(3)] )\n",
    "    B0 = np.array( [1.0] )\n",
    "    B1 = np.array( [np.sqrt(3), -0.5 * np.sqrt(3)] )\n",
    "    A = [ A0, A1 ]\n",
    "    B = [ B0, B1 ]\n",
    "    for i in range( max(j,p) - 1 ):\n",
    "        A.append( tilde_A_transformation(A[-2], A[-1]) )\n",
    "        B.append( tilde_A_transformation(B[-2], B[-1]) )\n",
    "    F = np.empty( (j + 1, p + 1) )\n",
    "    K = k + j + p\n",
    "    for m in range(0, j + 1):\n",
    "        for q in range(0, p + 1):\n",
    "            F[m, q] = A[j][m] * B[p][q] + (-1)**(K + m + q) * B[j][m] * A[p][q]\n",
    "    return F"
   ]
  },
  {
   "cell_type": "markdown",
   "id": "fc3c114c",
   "metadata": {},
   "source": [
    "The amount of matrices is $K$ and the size of each matrix is $\\mbox{Legendre_order} \\times \\mbox{Legendre_order}$."
   ]
  },
  {
   "cell_type": "code",
   "execution_count": 4,
   "id": "d26bad24",
   "metadata": {},
   "outputs": [],
   "source": [
    "K = 60\n",
    "Legendre_order = 40\n",
    "\n",
    "C_even = []\n",
    "\n",
    "for k in range(0, 2*K, 2):\n",
    "    C = np.ones((Legendre_order, Legendre_order))\n",
    "    for j in range(Legendre_order):\n",
    "        for p in range(Legendre_order):\n",
    "            C[j,p] = get_correlation_coefficient(k, j, p)\n",
    "    C_even.append(C)\n",
    "\n",
    "C_even = np.array(C_even)"
   ]
  },
  {
   "cell_type": "code",
   "execution_count": 5,
   "id": "4f9d7c40",
   "metadata": {},
   "outputs": [
    {
     "name": "stdout",
     "output_type": "stream",
     "text": [
      "[[ 2.00000000e+00  1.73205081e+00  8.94427191e-01 ... -6.36960146e-05\n",
      "   7.04987008e-05 -2.44140625e-04]\n",
      " [-1.73205081e+00 -2.00000000e+00 -1.29099445e+00 ...  1.09083650e-04\n",
      "  -1.40991864e-04  3.66210938e-04]\n",
      " [ 8.94427191e-01  1.29099445e+00  1.00000000e+00 ...  7.96109463e-08\n",
      "   3.28887739e-04 -1.22070312e-04]\n",
      " ...\n",
      " [ 6.36960146e-05  6.10351557e-05  9.14731234e-05 ...  2.23854212e-02\n",
      "   2.13240087e-02 -1.02078989e-02]\n",
      " [ 7.04987008e-05 -1.50218769e-04  2.59477221e-04 ... -1.39160156e-02\n",
      "   2.92663574e-02 -1.92871094e-02]\n",
      " [ 2.44140625e-04  4.88281250e-04  1.22070312e-04 ...  1.86862232e-02\n",
      "   2.70202501e-02 -1.26493813e-01]]\n",
      "[[ 2.00000000e+00  2.30940108e+00  1.59719141e+00 ... -5.65907154e-05\n",
      "   5.05571417e-05 -1.22070312e-04]\n",
      " [-2.30940108e+00 -3.00000000e+00 -2.32379001e+00 ...  7.08562303e-05\n",
      "  -7.65058334e-05  4.88281250e-04]\n",
      " [ 1.59719141e+00  2.32379001e+00  2.00000000e+00 ... -7.09606968e-05\n",
      "   1.77654086e-04 -4.57763672e-04]\n",
      " ...\n",
      " [ 5.65907154e-05  5.77059658e-05  2.51843296e-05 ...  9.17397672e-03\n",
      "   2.29110699e-02  5.57865668e-03]\n",
      " [ 5.05571417e-05 -4.72399768e-05  1.62387104e-04 ...  1.19628906e-02\n",
      "   3.15704346e-02 -2.80761719e-03]\n",
      " [ 1.22070312e-04  3.66210938e-04  4.88281250e-04 ...  2.12714604e-02\n",
      "   1.50047154e-02 -7.29368284e-02]]\n"
     ]
    }
   ],
   "source": [
    "print(C_even[0])\n",
    "print(C_even[1])"
   ]
  },
  {
   "cell_type": "markdown",
   "id": "aea15781",
   "metadata": {},
   "source": [
    "One prepares the data for writing to a file in the following order:\n",
    "1) size of documentation text;\n",
    "2) documentation text;\n",
    "3) the amount of matrices;\n",
    "4) the amount of columns (order) in each matrix;\n",
    "5) the first matrix stored row after row, the second one, and so on."
   ]
  },
  {
   "cell_type": "code",
   "execution_count": 6,
   "id": "d54460d2",
   "metadata": {},
   "outputs": [],
   "source": [
    "documentation_text = \"Time evolution Schrodinger cross correlation coefficients C_{p,j}^{2k} corresponding to \"\n",
    "documentation_text += \"Legendre scaling basis with k = 0, ..., K - 1 and p,j = 0, ..., L - 1. \"\n",
    "documentation_text += \"Here the amount of matrices K = \"\n",
    "documentation_text += str(K)\n",
    "documentation_text += \" and the Legendre order L = \"\n",
    "documentation_text += str(Legendre_order)\n",
    "documentation_text += \". After this documentation text follows interger for K, then interger for L. \"\n",
    "documentation_text += \"Then follow coefficients C_{0,0}^{0}, C_{0,1}^{0}, ..., C_{0,L-1}^{0}, C_{1,0}^{0},\"\n",
    "documentation_text += \" C_{1,1}^{0}, ..., C_{1,L-1}^{0}, ..., C_{L-1,L-1}^{2(K-1)}.\"\n",
    "\n",
    "text_lenght = len(documentation_text)\n",
    "text_lenght = np.array(text_lenght, dtype=np.int32)\n",
    "documentation_text_array = array('u', list(documentation_text))\n",
    "K_array = np.array(K, dtype=np.int32)\n",
    "Legendre_order_array = np.array(Legendre_order, dtype=np.int32)"
   ]
  },
  {
   "cell_type": "markdown",
   "id": "050c3fe6",
   "metadata": {},
   "source": [
    "## Location should be defined here."
   ]
  },
  {
   "cell_type": "code",
   "execution_count": 7,
   "id": "326f37d5",
   "metadata": {},
   "outputs": [],
   "source": [
    "#lib = \"/Users/edi011/Documents/Projects/Project 01./binary file utility\"\n",
    "#lib = \"/Users/edi011/mrcpp/pilot\"\n",
    "#location = lib + \"/test_file.bin\"\n",
    "\n",
    "lib = \"../share/mwfilters\"\n",
    "location = lib + \"/Schrodinger_evolution_cross_correlation_coefficients_Legendre_scaling_type.bin\""
   ]
  },
  {
   "cell_type": "markdown",
   "id": "d96c589c",
   "metadata": {},
   "source": [
    "## We write into a file the matrices $C_{jp}^{2k}$ for each $k = 0, \\ldots, K - 1$. "
   ]
  },
  {
   "cell_type": "code",
   "execution_count": 8,
   "id": "e65b99dd",
   "metadata": {},
   "outputs": [
    {
     "data": {
      "text/plain": [
       "<function BufferedWriter.close>"
      ]
     },
     "execution_count": 8,
     "metadata": {},
     "output_type": "execute_result"
    }
   ],
   "source": [
    "output_file = open(location, 'wb')\n",
    "\n",
    "text_lenght.tofile(output_file)\n",
    "documentation_text_array.tofile(output_file)\n",
    "K_array.tofile(output_file)\n",
    "Legendre_order_array.tofile(output_file)\n",
    "C_even.tofile(output_file)\n",
    "\n",
    "output_file.close"
   ]
  },
  {
   "cell_type": "markdown",
   "id": "b1291175",
   "metadata": {},
   "source": [
    "## By default Eigen library reads from a file the transpose matrices $C_{pj}^{2k} = \\left(C_{jp}^{2k}\\right)^T$ for each $k = 0, \\ldots, K - 1$. This is convinient for further calculations."
   ]
  },
  {
   "cell_type": "code",
   "execution_count": null,
   "id": "65bf3497",
   "metadata": {},
   "outputs": [],
   "source": []
  }
 ],
 "metadata": {
  "kernelspec": {
   "display_name": "Python 3 (ipykernel)",
   "language": "python",
   "name": "python3"
  },
  "language_info": {
   "codemirror_mode": {
    "name": "ipython",
    "version": 3
   },
   "file_extension": ".py",
   "mimetype": "text/x-python",
   "name": "python",
   "nbconvert_exporter": "python",
   "pygments_lexer": "ipython3",
   "version": "3.9.13"
  }
 },
 "nbformat": 4,
 "nbformat_minor": 5
}
